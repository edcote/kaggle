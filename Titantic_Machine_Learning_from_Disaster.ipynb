{
  "metadata": {
    "kernelspec": {
      "language": "python",
      "display_name": "Python 3",
      "name": "python3"
    },
    "language_info": {
      "name": "python",
      "version": "3.10.14",
      "mimetype": "text/x-python",
      "codemirror_mode": {
        "name": "ipython",
        "version": 3
      },
      "pygments_lexer": "ipython3",
      "nbconvert_exporter": "python",
      "file_extension": ".py"
    },
    "kaggle": {
      "accelerator": "none",
      "dataSources": [
        {
          "sourceId": 3136,
          "databundleVersionId": 26502,
          "sourceType": "competition"
        }
      ],
      "dockerImageVersionId": 30775,
      "isInternetEnabled": false,
      "language": "python",
      "sourceType": "script",
      "isGpuEnabled": false
    },
    "colab": {
      "provenance": [],
      "toc_visible": true,
      "include_colab_link": true
    }
  },
  "nbformat_minor": 0,
  "nbformat": 4,
  "cells": [
    {
      "cell_type": "markdown",
      "metadata": {
        "id": "view-in-github",
        "colab_type": "text"
      },
      "source": [
        "<a href=\"https://colab.research.google.com/github/edcote/kaggle/blob/main/Titantic_Machine_Learning_from_Disaster.ipynb\" target=\"_parent\"><img src=\"https://colab.research.google.com/assets/colab-badge.svg\" alt=\"Open In Colab\"/></a>"
      ]
    },
    {
      "cell_type": "markdown",
      "source": [
        "# Colab setup"
      ],
      "metadata": {
        "id": "gy0DoEdNNJvz"
      }
    },
    {
      "cell_type": "code",
      "source": [
        "!pip install --quiet kaggle black[jupyter]\n",
        "import pandas as pd\n",
        "import numpy as np\n",
        "from google.colab import drive"
      ],
      "metadata": {
        "id": "548tzAaGEEZF"
      },
      "execution_count": null,
      "outputs": []
    },
    {
      "cell_type": "code",
      "source": [
        "drive.mount(\"/content/gdrive\", force_remount=True)"
      ],
      "metadata": {
        "id": "6KKjG5uczsrM"
      },
      "execution_count": null,
      "outputs": []
    },
    {
      "cell_type": "markdown",
      "source": [
        "# Kaggle setup\n",
        "\n",
        "Go to the 'Account' tab of your [user profile](https://www.kaggle.com/settings/account) and select 'Create New Token'. This will trigger the download of `kaggle.json`, a file containing your API credentials. Upload the file to local storage before continuing."
      ],
      "metadata": {
        "id": "gtps1biVNFiu"
      }
    },
    {
      "cell_type": "code",
      "source": [
        "from google.colab import files\n",
        "\n",
        "files.upload()"
      ],
      "metadata": {
        "id": "l2pRqsnbDkjh"
      },
      "execution_count": null,
      "outputs": []
    },
    {
      "cell_type": "code",
      "source": [
        "!mkdir -p ~/.kaggle\n",
        "!cp kaggle.json ~/.kaggle/\n",
        "!chmod 600 ~/.kaggle/kaggle.json\n",
        "!kaggle competitions download -c titanic --force --quiet\n",
        "!unzip -o titanic.zip -d /content"
      ],
      "metadata": {
        "id": "9wqpWjuvEQDz"
      },
      "execution_count": null,
      "outputs": []
    },
    {
      "cell_type": "markdown",
      "source": [
        "# Code formatting"
      ],
      "metadata": {
        "id": "H1I8m6sL7Zui"
      }
    },
    {
      "cell_type": "code",
      "source": [
        "!black /content/gdrive/MyDrive/'Colab Notebooks'/Titantic_Machine_Learning_from_Disaster.ipynb"
      ],
      "metadata": {
        "id": "cRP69tlO7XKs"
      },
      "execution_count": null,
      "outputs": []
    },
    {
      "cell_type": "markdown",
      "source": [
        "# Data analysis"
      ],
      "metadata": {
        "id": "PlDM8GG-GFrG"
      }
    },
    {
      "cell_type": "code",
      "source": [
        "train_df = pd.read_csv(\"/content/train.csv\", index_col=\"PassengerId\")"
      ],
      "metadata": {
        "id": "Ja0uIl5r3Xbm"
      },
      "execution_count": null,
      "outputs": []
    },
    {
      "cell_type": "markdown",
      "source": [
        "## Does dataset contain any missing values?\n",
        "\n",
        "A: Yes. Age and Cabin."
      ],
      "metadata": {
        "id": "5iAAMaNZ3aJt"
      }
    },
    {
      "cell_type": "code",
      "source": [
        "train_df.info()"
      ],
      "metadata": {
        "id": "IpRxiWwo3iEP"
      },
      "execution_count": null,
      "outputs": []
    },
    {
      "cell_type": "markdown",
      "source": [
        "## How many passengers survived?"
      ],
      "metadata": {
        "id": "apfifiBA4G-Y"
      }
    },
    {
      "cell_type": "code",
      "source": [
        "survived = train_df[train_df[\"Survived\"] == 1].Survived.value_counts()  # 342\n",
        "perished = train_df[train_df[\"Survived\"] == 0].Survived.value_counts()  # 549\n",
        "\n",
        "survival_df = pd.DataFrame([survived, perished], index=[\"Survived\", \"Perished\"])\n",
        "survival_df.plot(kind=\"bar\", stacked=True)"
      ],
      "metadata": {
        "id": "XhmryyWW4LIe"
      },
      "execution_count": null,
      "outputs": []
    },
    {
      "cell_type": "markdown",
      "source": [
        "## Is the likelihood of survival dependent on gender?"
      ],
      "metadata": {
        "id": "ovm7RlhK4cYZ"
      }
    },
    {
      "cell_type": "code",
      "source": [
        "# Passenger count based on gender\n",
        "train_df[\"Sex\"].value_counts()  # 577 male, 314 female\n",
        "# Survival ratio based on gender\n",
        "train_df.groupby(\"Sex\").Survived.mean()  # 18.8% male, 74.2% female\n",
        "\n",
        "survived = train_df[train_df[\"Survived\"] == 1].Sex.value_counts()\n",
        "perished = train_df[train_df[\"Survived\"] == 0].Sex.value_counts()\n",
        "\n",
        "survival_df = pd.DataFrame([survived, perished], index=[\"Survived\", \"Perished\"])\n",
        "survival_df.plot(kind=\"bar\", stacked=True)"
      ],
      "metadata": {
        "id": "dYwrZRKw4hXc"
      },
      "execution_count": null,
      "outputs": []
    },
    {
      "cell_type": "markdown",
      "source": [
        "## Does passenger class correlate to the probability of survival?"
      ],
      "metadata": {
        "id": "tscaSkd48Qhp"
      }
    },
    {
      "cell_type": "code",
      "source": [
        "# Passenger count as a function of class\n",
        "pd.pivot_table(\n",
        "    train_df, index=\"Survived\", columns=\"Pclass\", values=\"Ticket\", aggfunc=\"count\"\n",
        ")\n",
        "train_df.groupby(\n",
        "    [\"Pclass\"]\n",
        ").Survived.mean()  # 63% 1st class, 47% 2nd class, 24% 3rd class\n",
        "\n",
        "survived = train_df[train_df[\"Survived\"] == 1].Pclass.value_counts()\n",
        "perished = train_df[train_df[\"Survived\"] == 0].Pclass.value_counts()\n",
        "\n",
        "survival_df = pd.DataFrame([survived, perished], index=[\"Survived\", \"Perished\"])\n",
        "survival_df.plot(kind=\"bar\", stacked=True)"
      ],
      "metadata": {
        "id": "pMNEp6Ka8QMJ"
      },
      "execution_count": null,
      "outputs": []
    },
    {
      "cell_type": "markdown",
      "source": [
        "More info: https://anelmusic13.medium.com/how-to-score-top-3-in-kaggles-titanic-machine-learning-from-disaster-competition-13d056e262b1"
      ],
      "metadata": {
        "id": "_z99onYo8P5Z"
      }
    },
    {
      "cell_type": "markdown",
      "source": [
        "# Data cleaning"
      ],
      "metadata": {
        "id": "WxmjNssp-RoF"
      }
    },
    {
      "cell_type": "code",
      "source": [
        "# nan_rows = data[data.isnull().any(axis=1)]\n",
        "\n",
        "train_df[\"Age\"] = train_df[\"Age\"].fillna(train_df[\"Age\"].median())\n",
        "train_df[\"Fare\"] = train_df[\"Fare\"].fillna(train_df[\"Fare\"].median())\n",
        "train_df[\"Fare\"] = train_df[\"Fare\"].replace(0, train_df[\"Fare\"].median())\n",
        "train_df[\"Embarked\"] = train_df[\"Embarked\"].fillna(\"S\")\n",
        "train_df[\"Embarked\"] = train_df[\"Embarked\"].map({\"S\": 0, \"C\": 1, \"Q\": 2})\n",
        "train_df[\"Sex\"] = train_df[\"Sex\"].map({\"female\": 0, \"male\": 1}).astype(int)\n",
        "\n",
        "train_df[\"Survived\"] = train_df[\"Survived\"].fillna(0).astype(int)\n",
        "\n",
        "age_bins = np.linspace(\n",
        "    train_df[\"Age\"].min(), train_df[\"Age\"].max(), num=8, endpoint=True\n",
        ")\n",
        "age_labels = [f\"{age_bins[i-1]:.0f}_{age_bins[i]:.0f}\" for i in range(1, len(age_bins))]\n",
        "train_df[\"Age Group\"] = pd.cut(\n",
        "    train_df[\"Age\"], bins=age_bins, labels=age_labels, include_lowest=True\n",
        ")\n",
        "fare_bins = np.linspace(\n",
        "    train_df[\"Fare\"].min(), train_df[\"Fare\"].max(), num=8, endpoint=True\n",
        ")\n",
        "fare_labels = [\n",
        "    f\"{fare_bins[i-1]:.0f}_{fare_bins[i]:.0f}\" for i in range(1, len(fare_bins))\n",
        "]\n",
        "train_df[\"Fare Group\"] = pd.cut(\n",
        "    train_df[\"Fare\"], bins=fare_bins, labels=fare_labels, include_lowest=True\n",
        ")\n",
        "\n",
        "\n",
        "def title(x):\n",
        "    title_categories = {\n",
        "        1: [\"Mr\", \"Rev\", \"Major\", \"Capt\", \"Col\", \"Sir\", \"Jonkheer\", \"Dr\", \"Don\"],\n",
        "        2: [\"Miss\", \"Ms\", \"Lady\", \"Mlle\"],\n",
        "        3: [\"Mrs\", \"Mme\", \"Countess\"],\n",
        "        4: [\"Master\"],\n",
        "    }\n",
        "    for category, titles in title_categories.items():\n",
        "        if x in titles:\n",
        "            return category\n",
        "    return 5  # Default category if not found\n",
        "\n",
        "\n",
        "train_df[\"Title\"] = (\n",
        "    train_df[\"Name\"].str.extract(\" ([A-Za-z]+)\\.\", expand=False).map(title)\n",
        ")\n",
        "\n",
        "train_df = train_df.drop([\"Ticket\", \"Name\", \"Cabin\", \"Age\", \"Fare\"], axis=1)\n",
        "\n",
        "train_df.head()"
      ],
      "metadata": {
        "id": "eueVHYDNKVsP",
        "collapsed": true
      },
      "execution_count": null,
      "outputs": []
    },
    {
      "cell_type": "code",
      "source": [
        "from sklearn import linear_model\n",
        "\n",
        "sgd = linear_model.SGDClassifier(max_iter=5, tol=None)\n",
        "sgd.fit(x_train, y_train)\n",
        "y_pred = sgd.predict(x_test)\n",
        "sgd.score(x_train, y_train)\n",
        "\n",
        "# acc_score = round(sgd.score(x_train, y_train) * 100, 2)\n",
        "# print(round(acc_score,2,), \"%\")"
      ],
      "metadata": {
        "id": "ZoIuOi2efyEQ"
      },
      "execution_count": null,
      "outputs": []
    }
  ]
}