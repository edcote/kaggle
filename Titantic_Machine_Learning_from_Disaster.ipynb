{
  "metadata": {
    "kernelspec": {
      "language": "python",
      "display_name": "Python 3",
      "name": "python3"
    },
    "language_info": {
      "name": "python",
      "version": "3.10.14",
      "mimetype": "text/x-python",
      "codemirror_mode": {
        "name": "ipython",
        "version": 3
      },
      "pygments_lexer": "ipython3",
      "nbconvert_exporter": "python",
      "file_extension": ".py"
    },
    "kaggle": {
      "accelerator": "none",
      "dataSources": [
        {
          "sourceId": 3136,
          "databundleVersionId": 26502,
          "sourceType": "competition"
        }
      ],
      "dockerImageVersionId": 30775,
      "isInternetEnabled": false,
      "language": "python",
      "sourceType": "script",
      "isGpuEnabled": false
    },
    "colab": {
      "provenance": [],
      "toc_visible": true,
      "include_colab_link": true
    }
  },
  "nbformat_minor": 0,
  "nbformat": 4,
  "cells": [
    {
      "cell_type": "markdown",
      "metadata": {
        "id": "view-in-github",
        "colab_type": "text"
      },
      "source": [
        "<a href=\"https://colab.research.google.com/github/edcote/kaggle/blob/main/Titantic_Machine_Learning_from_Disaster.ipynb\" target=\"_parent\"><img src=\"https://colab.research.google.com/assets/colab-badge.svg\" alt=\"Open In Colab\"/></a>"
      ]
    },
    {
      "cell_type": "markdown",
      "source": [
        "# Colab setup"
      ],
      "metadata": {
        "id": "gy0DoEdNNJvz"
      }
    },
    {
      "cell_type": "code",
      "source": [
        "!pip install -q kaggle blackcellmagic\n",
        "import pandas as pd\n",
        "import numpy as np"
      ],
      "metadata": {
        "id": "548tzAaGEEZF"
      },
      "execution_count": null,
      "outputs": []
    },
    {
      "cell_type": "code",
      "execution_count": null,
      "metadata": {
        "id": "krjmjW36M8Yw"
      },
      "outputs": [],
      "source": [
        "%reload_ext blackcellmagic"
      ]
    },
    {
      "cell_type": "markdown",
      "source": [
        "# Kaggle setup"
      ],
      "metadata": {
        "id": "gtps1biVNFiu"
      }
    },
    {
      "cell_type": "code",
      "source": [
        "%%black\n",
        "from google.colab import files\n",
        "files.upload()"
      ],
      "metadata": {
        "id": "l2pRqsnbDkjh"
      },
      "execution_count": null,
      "outputs": []
    },
    {
      "cell_type": "code",
      "source": [
        "!mkdir -p ~/.kaggle\n",
        "!cp kaggle.json ~/.kaggle/\n",
        "!chmod 600 ~/.kaggle/kaggle.json\n",
        "!kaggle competitions download -c titanic\n",
        "!unzip -qf titanic.zip"
      ],
      "metadata": {
        "id": "9wqpWjuvEQDz"
      },
      "execution_count": null,
      "outputs": []
    },
    {
      "cell_type": "code",
      "source": [
        "%%black\n",
        "\n",
        "train_data = pd.read_csv('/content/train.csv', index_col='PassengerId')\n",
        "train_data['Age'] =    train_data['Age'].  fillna(train_data['Age'].median())\n",
        "train_data['Embarked'] = train_data['Embarked'].fillna('S')\n",
        "train_data['Sex'] =     train_data['Sex'].map({'female': 0, 'male': 1}).astype(int)\n",
        "train_data['Embarked_S'] = train_data['Embarked'] == 'S'\n",
        "train_data['Embarked_C'] = train_data['Embarked'] == 'C'\n",
        "train_data['Embarked_Q'] = train_data['Embarked'] == 'Q'\n",
        "\n",
        "age_bins = np.linspace(train_data['Age'].min(),\n",
        "                       train_data['Age'].max(),\n",
        "                       num=8,\n",
        "                       endpoint=True)\n",
        "age_labels = [ f\"{age_bins[i-1]:.2f}_{age_bins[i]:.2f}\" for i in range(1, len(age_bins)) ]\n",
        "train_data['Age Group'] = pd.cut(train_data['Age'],\n",
        "                                 bins = age_bins,\n",
        "                                 labels = age_labels)\n",
        "\n",
        "fare_bins = np.linspace(train_data['Fare'].min(),\n",
        "                       train_data['Fare'].max(),\n",
        "                       num=8,\n",
        "                       endpoint=True)\n",
        "fare_labels = [ f\"{fare_bins[i-1]:.2f}_{fare_bins[i]:.2f}\" for i in range(1, len(fare_bins)) ]\n",
        "train_data['Fare Group'] = pd.cut(train_data['Fare'],                                 bins = fare_bins,\n",
        "                                 labels = fare_labels)\n",
        "\n",
        "train_data = train_data.drop(['Ticket', 'Name', 'Cabin', 'Embarked', 'Age', 'Fare'], axis=1)\n",
        "\n",
        "train_data.head()"
      ],
      "metadata": {
        "id": "eueVHYDNKVsP",
        "collapsed": true
      },
      "execution_count": null,
      "outputs": []
    },
    {
      "cell_type": "code",
      "source": [
        "train_data = pd.read_csv('/kaggle/input/titanic/train.csv')\n",
        "\n",
        "#train_data['Age'].fillna(train_data['Age'].median(), inplace=True)\n",
        "#train_data['Sex'] = train_data['Sex'].map({'female': 0, 'male': 1}).astype(int)\n",
        "#train_data = train_data.drop(['Ticket', 'Name', 'Cabin'], axis=1)\n"
      ],
      "metadata": {
        "id": "xLhgpi_EMRmI"
      },
      "execution_count": null,
      "outputs": []
    },
    {
      "cell_type": "code",
      "source": [
        "test_data = pd.read_csv('/kaggle/input/titanic/test.csv')\n",
        "test_data.head()"
      ],
      "metadata": {
        "id": "oTw1LM_GLJz4"
      },
      "execution_count": null,
      "outputs": []
    },
    {
      "cell_type": "code",
      "source": [
        "women = train_data.loc[train_data.Sex == 'female'][\"Survived\"]\n",
        "rate_women = sum(women)/len(women)\n",
        "\n",
        "print(\"% of women who survived:\", rate_women)"
      ],
      "metadata": {
        "id": "76dU79_6L9tc"
      },
      "execution_count": null,
      "outputs": []
    },
    {
      "cell_type": "code",
      "source": [
        "men = train_data.loc[train_data.Sex == 'male'][\"Survived\"]\n",
        "rate_men = sum(men)/len(men)\n",
        "\n",
        "print(\"% of men who survived:\", rate_men)"
      ],
      "metadata": {
        "id": "9x3AfMuJMBJt"
      },
      "execution_count": null,
      "outputs": []
    },
    {
      "cell_type": "markdown",
      "source": [
        "# Data cleaning"
      ],
      "metadata": {
        "id": "PlDM8GG-GFrG"
      }
    },
    {
      "cell_type": "code",
      "source": [
        "train_data = pd.read_csv('/kaggle/input/titanic/train.csv')\n",
        "\n",
        "#train_data['Age'].fillna(train_data['Age'].median(), inplace=True)\n",
        "#train_data['Sex'] = train_data['Sex'].map({'female': 0, 'male': 1}).astype(int)\n",
        "#train_data = train_data.drop(['Ticket', 'Name', 'Cabin'], axis=1)\n"
      ],
      "metadata": {
        "id": "dn021Pv15EUK"
      },
      "execution_count": null,
      "outputs": []
    },
    {
      "cell_type": "code",
      "source": [
        "train_data.describe()"
      ],
      "metadata": {
        "id": "TsyUpGCSGipL"
      },
      "execution_count": null,
      "outputs": []
    }
  ]
}