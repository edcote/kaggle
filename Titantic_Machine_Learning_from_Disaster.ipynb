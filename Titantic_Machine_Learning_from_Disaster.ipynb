{
  "metadata": {
    "kernelspec": {
      "language": "python",
      "display_name": "Python 3",
      "name": "python3"
    },
    "language_info": {
      "name": "python",
      "version": "3.10.14",
      "mimetype": "text/x-python",
      "codemirror_mode": {
        "name": "ipython",
        "version": 3
      },
      "pygments_lexer": "ipython3",
      "nbconvert_exporter": "python",
      "file_extension": ".py"
    },
    "kaggle": {
      "accelerator": "none",
      "dataSources": [
        {
          "sourceId": 3136,
          "databundleVersionId": 26502,
          "sourceType": "competition"
        }
      ],
      "dockerImageVersionId": 30775,
      "isInternetEnabled": false,
      "language": "python",
      "sourceType": "script",
      "isGpuEnabled": false
    },
    "colab": {
      "provenance": [],
      "include_colab_link": true
    }
  },
  "nbformat_minor": 0,
  "nbformat": 4,
  "cells": [
    {
      "cell_type": "markdown",
      "metadata": {
        "id": "view-in-github",
        "colab_type": "text"
      },
      "source": [
        "<a href=\"https://colab.research.google.com/github/edcote/kaggle/blob/main/Titantic_Machine_Learning_from_Disaster.ipynb\" target=\"_parent\"><img src=\"https://colab.research.google.com/assets/colab-badge.svg\" alt=\"Open In Colab\"/></a>"
      ]
    },
    {
      "cell_type": "markdown",
      "source": [
        "# Colab setup"
      ],
      "metadata": {
        "id": "gy0DoEdNNJvz"
      }
    },
    {
      "cell_type": "code",
      "source": [
        "!pip install kaggle black[jupyter] --quiet\n",
        "import pandas as pd\n",
        "import numpy as np\n",
        "from google.colab import drive\n",
        "drive.mount('/content/gdrive', force_remount=True)"
      ],
      "metadata": {
        "id": "548tzAaGEEZF"
      },
      "execution_count": null,
      "outputs": []
    },
    {
      "cell_type": "markdown",
      "source": [
        "# Kaggle setup\n",
        "\n",
        "Go to the 'Account' tab of your [user profile](https://www.kaggle.com/settings/account) and select 'Create New Token'. This will trigger the download of `kaggle.json`, a file containing your API credentials. Upload the file to local storage before continuing."
      ],
      "metadata": {
        "id": "gtps1biVNFiu"
      }
    },
    {
      "cell_type": "code",
      "source": [
        "from google.colab import file\n",
        "files.upload()"
      ],
      "metadata": {
        "id": "l2pRqsnbDkjh"
      },
      "execution_count": null,
      "outputs": []
    },
    {
      "cell_type": "code",
      "source": [
        "!mkdir -p ~/.kaggle\n",
        "!cp kaggle.json ~/.kaggle/\n",
        "!chmod 600 ~/.kaggle/kaggle.json\n",
        "!kaggle competitions download -c titanic --force --quiet\n",
        "!unzip -qf titanic.zip -d /content"
      ],
      "metadata": {
        "id": "9wqpWjuvEQDz"
      },
      "execution_count": null,
      "outputs": []
    },
    {
      "cell_type": "markdown",
      "source": [
        "# Code formatting"
      ],
      "metadata": {
        "id": "H1I8m6sL7Zui"
      }
    },
    {
      "cell_type": "code",
      "source": [
        "!black /content/gdrive/MyDrive/'Colab Notebooks'/Titantic_Machine_Learning_from_Disaster.ipynb"
      ],
      "metadata": {
        "id": "cRP69tlO7XKs"
      },
      "execution_count": null,
      "outputs": []
    },
    {
      "cell_type": "markdown",
      "source": [
        "# Data cleaning"
      ],
      "metadata": {
        "id": "PlDM8GG-GFrG"
      }
    },
    {
      "cell_type": "code",
      "source": [
        "train_data = pd.read_csv('/content/train.csv', index_col='PassengerId')\n",
        "train_data['Age'] = train_data['Age'].fillna(train_data['Age'].median())\n",
        "train_data['Embarked'] = train_data['Embarked'].fillna('S')\n",
        "train_data['Sex'] = train_data['Sex'].map({'female': 0, 'male': 1}).astype(int)\n",
        "train_data['Embarked_S'] = train_data['Embarked'] == 'S'\n",
        "train_data['Embarked_C'] = train_data['Embarked'] == 'C'\n",
        "train_data['Embarked_Q'] = train_data['Embarked'] == 'Q'\n",
        "\n",
        "age_bins = np.linspace(train_data['Age'].min(),\n",
        "                       train_data['Age'].max(),\n",
        "                       num=8,\n",
        "                       endpoint=True)\n",
        "age_labels = [ f\"{age_bins[i-1]:.0f}_{age_bins[i]:.0f}\" for i in range(1, len(age_bins)) ]\n",
        "train_data['Age Group'] = pd.cut(train_data['Age'],\n",
        "                                 bins = age_bins,\n",
        "                                 labels = age_labels)\n",
        "\n",
        "fare_bins = np.linspace(train_data['Fare'].min(),\n",
        "                       train_data['Fare'].max(),\n",
        "                       num=8,\n",
        "                       endpoint=True)\n",
        "fare_labels = [ f\"{fare_bins[i-1]:.0f}_{fare_bins[i]:.0f}\" for i in range(1, len(fare_bins)) ]\n",
        "train_data['Fare Group'] = pd.cut(train_data['Fare'],\n",
        "                                  bins = fare_bins,\n",
        "                                  labels = fare_labels)\n",
        "\n",
        "def title(x):\n",
        "  title_categories = {\n",
        "      1: [\"Mr\", \"Rev\", \"Major\", \"Capt\", \"Col\", \"Sir\", \"Jonkheer\", \"Dr\", \"Don\"],\n",
        "      2: [\"Miss\", \"Ms\", \"Lady\", \"Mlle\"],\n",
        "      3: [\"Mrs\", \"Mme\", \"Countess\"],\n",
        "      4: [\"Master\"]\n",
        "  }\n",
        "  for category, titles in title_categories.items():\n",
        "    if x in titles:\n",
        "      return category\n",
        "  return 5  # Default category if not found\n",
        "\n",
        "train_data['Title'] = train_data['Name'].str.extract(' ([A-Za-z]+)\\.', expand=False).map(title)\n",
        "\n",
        "train_data = train_data.drop(['Ticket', 'Name', 'Cabin', 'Embarked', 'Age', 'Fare'], axis=1)\n",
        "train_data.head()\n",
        "\n",
        "# TODO: Continue following this tutorial ...\n",
        "# https://www.kaggle.com/code/niklasdonges/end-to-end-project-with-python#Creating-Categories\n"
      ],
      "metadata": {
        "id": "eueVHYDNKVsP",
        "collapsed": true
      },
      "execution_count": null,
      "outputs": []
    },
    {
      "cell_type": "markdown",
      "source": [
        "# Explore data"
      ],
      "metadata": {
        "id": "B6UN_PWCS3JI"
      }
    },
    {
      "cell_type": "code",
      "source": [
        "women = train_data.loc[train_data.Sex == 0][\"Survived\"]\n",
        "rate_women = 100*sum(women)/len(women)\n",
        "print(f\"{rate_women:.2f}% of women survived\")"
      ],
      "metadata": {
        "id": "76dU79_6L9tc"
      },
      "execution_count": null,
      "outputs": []
    },
    {
      "cell_type": "code",
      "source": [
        "men = train_data.loc[train_data.Sex == 1][\"Survived\"]\n",
        "rate_men = 100*sum(men)/len(men)\n",
        "print(f\"{rate_men:.2f}% of men survived\")\n"
      ],
      "metadata": {
        "id": "9x3AfMuJMBJt"
      },
      "execution_count": null,
      "outputs": []
    }
  ]
}